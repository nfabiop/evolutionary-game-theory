{
 "cells": [
  {
   "cell_type": "markdown",
   "metadata": {},
   "source": [
    "# 2.1 Definiciones\n",
    "\n",
    "alguna zaraza\n",
    "\n",
    "\n",
    "```{prf:definition}\n",
    ":label: my-definition2\n",
    "\n",
    "\n",
    "The *economical expansion problem* (EEP) for\n",
    "$(A,B)$ is to find a semi-positive $n$-vector $p>0$\n",
    "and a number $\\beta\\in\\mathbb{R}$, such that\n",
    "\n",
    "$$\n",
    "&\\min_{\\beta} \\hspace{2mm} \\beta \\\\\n",
    "&\\text{s.t. }\\hspace{2mm}Bp \\leq \\beta Ap\n",
    "$$\n",
    "\n",
    "```\n",
    "\n",
    "## Teoria de la utilidad\n",
    "\n",
    "asdasd\n",
    "\n",
    "````{prf:theorem} Orthogonal-Projection-Theorem\n",
    ":label: my-theorem\n",
    "\n",
    "Given $y \\in \\mathbb R^n$ and linear subspace $S \\subset \\mathbb R^n$,\n",
    "there exists a unique solution to the minimization problem\n",
    "\n",
    "```{math}\n",
    "\\hat y := \\argmin_{z \\in S} \\|y - z\\|\n",
    "```\n",
    "\n",
    "The minimizer $\\hat y$ is the unique vector in $\\mathbb R^n$ that satisfies\n",
    "\n",
    "* $\\hat y \\in S$\n",
    "\n",
    "* $y - \\hat y \\perp S$\n",
    "\n",
    "\n",
    "The vector $\\hat y$ is called the **orthogonal projection** of $y$ onto $S$.\n",
    "````\n",
    "\n",
    "\n",
    "```{prf:axiom} Completeness of $\\mathbb{R}$\n",
    ":label: my-axiom\n",
    "\n",
    "Every Cauchy sequence on the real line is convergent.\n",
    "```"
   ]
  }
 ],
 "metadata": {
  "language_info": {
   "name": "python"
  }
 },
 "nbformat": 4,
 "nbformat_minor": 2
}
