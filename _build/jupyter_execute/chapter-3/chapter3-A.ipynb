{
 "cells": [
  {
   "cell_type": "markdown",
   "metadata": {},
   "source": [
    "# 3.1 Estrategias evolutivamente estables (ESS)\n",
    "\n",
    "\n",
    "alguna zaraza\n",
    "\n",
    "\n",
    "\n",
    "## 3.1.2 Dinámica replicadora\n",
    "\n",
    "asdasd\n",
    "\n",
    "sdasdad"
   ]
  }
 ],
 "metadata": {
  "language_info": {
   "codemirror_mode": {
    "name": "ipython",
    "version": 3
   },
   "file_extension": ".py",
   "mimetype": "text/x-python",
   "name": "python",
   "nbconvert_exporter": "python",
   "pygments_lexer": "ipython3",
   "version": "3.8.5"
  }
 },
 "nbformat": 4,
 "nbformat_minor": 2
}