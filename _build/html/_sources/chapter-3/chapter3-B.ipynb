{
 "cells": [
  {
   "cell_type": "markdown",
   "metadata": {},
   "source": [
    "# 3.2 Dinámica replicadora\n",
    "\n",
    "\n",
    "alguna zaraza\n",
    "\n",
    "asdasd\n",
    "\n",
    "sdasdad"
   ]
  }
 ],
 "metadata": {
  "language_info": {
   "name": "python"
  }
 },
 "nbformat": 4,
 "nbformat_minor": 2
}
