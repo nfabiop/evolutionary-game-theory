{
 "cells": [
  {
   "cell_type": "markdown",
   "metadata": {},
   "source": [
    "# 3.1 Estrategias evolutivamente estables (ESS)\n",
    "\n",
    "\n",
    "alguna zaraza\n",
    "\n",
    "\n",
    "\n",
    "## 3.1.2 Dinámica replicadora\n",
    "\n",
    "asdasd\n",
    "\n",
    "sdasdad"
   ]
  }
 ],
 "metadata": {
  "language_info": {
   "name": "python"
  }
 },
 "nbformat": 4,
 "nbformat_minor": 2
}
